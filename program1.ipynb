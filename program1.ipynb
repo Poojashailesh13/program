{
 "cells": [
  {
   "cell_type": "raw",
   "id": "ec84512a",
   "metadata": {},
   "source": [
    "1. Write a Python program to print \"hello python\"?"
   ]
  },
  {
   "cell_type": "code",
   "execution_count": 4,
   "id": "f3c81554",
   "metadata": {},
   "outputs": [
    {
     "name": "stdout",
     "output_type": "stream",
     "text": [
      "hello python\n"
     ]
    }
   ],
   "source": [
    "print(\"hello python\")"
   ]
  },
  {
   "cell_type": "raw",
   "id": "947c0065",
   "metadata": {},
   "source": [
    "2. Write a Python program to do arithmetical operations addition and division?\n"
   ]
  },
  {
   "cell_type": "code",
   "execution_count": 9,
   "id": "83292306",
   "metadata": {},
   "outputs": [
    {
     "name": "stdout",
     "output_type": "stream",
     "text": [
      "line1-value of c is 10\n",
      "line2-value of c is  1.0\n"
     ]
    }
   ],
   "source": [
    "a = 5\n",
    "b = 5\n",
    "c = a+b\n",
    "print (\"line1-value of c is\",c)\n",
    "c=a/b\n",
    "print (\"line2-value of c is \",c)"
   ]
  },
  {
   "cell_type": "raw",
   "id": "0883fc92",
   "metadata": {},
   "source": [
    "3. Write a Python program to find the area of a triangle?\n"
   ]
  },
  {
   "cell_type": "code",
   "execution_count": 13,
   "id": "1b77d237",
   "metadata": {},
   "outputs": [
    {
     "name": "stdout",
     "output_type": "stream",
     "text": [
      "area of triangle 10.0\n"
     ]
    }
   ],
   "source": [
    "b=4\n",
    "h=5\n",
    "a=1/2*b*h\n",
    "print(\"area of triangle\",a)"
   ]
  },
  {
   "cell_type": "raw",
   "id": "bf4f6e1f",
   "metadata": {},
   "source": [
    "4. Write a Python program to swap two variables?"
   ]
  },
  {
   "cell_type": "code",
   "execution_count": 17,
   "id": "8cb1ceb0",
   "metadata": {},
   "outputs": [
    {
     "name": "stdout",
     "output_type": "stream",
     "text": [
      "value of x 50\n",
      "value of y 10\n"
     ]
    }
   ],
   "source": [
    "x = 10\n",
    "y = 50\n",
    "temp = x\n",
    "x = y\n",
    "y = temp\n",
    "print(\"value of x\",x)\n",
    "print(\"value of y\",y)"
   ]
  },
  {
   "cell_type": "raw",
   "id": "dcb3a2d1",
   "metadata": {},
   "source": [
    "5. Write a Python program to generate a random number?"
   ]
  },
  {
   "cell_type": "code",
   "execution_count": 21,
   "id": "2a461e99",
   "metadata": {},
   "outputs": [
    {
     "name": "stdout",
     "output_type": "stream",
     "text": [
      "19\n"
     ]
    }
   ],
   "source": [
    "import random\n",
    "print(random.randint(0,20))"
   ]
  },
  {
   "cell_type": "raw",
   "id": "16e25e8c",
   "metadata": {},
   "source": []
  },
  {
   "cell_type": "code",
   "execution_count": null,
   "id": "4e493f2a",
   "metadata": {},
   "outputs": [],
   "source": []
  }
 ],
 "metadata": {
  "kernelspec": {
   "display_name": "Python 3 (ipykernel)",
   "language": "python",
   "name": "python3"
  },
  "language_info": {
   "codemirror_mode": {
    "name": "ipython",
    "version": 3
   },
   "file_extension": ".py",
   "mimetype": "text/x-python",
   "name": "python",
   "nbconvert_exporter": "python",
   "pygments_lexer": "ipython3",
   "version": "3.9.7"
  }
 },
 "nbformat": 4,
 "nbformat_minor": 5
}
